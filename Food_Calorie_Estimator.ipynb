{
 "cells": [
  {
   "cell_type": "markdown",
   "id": "023968dc-8545-4855-9a83-2a806660d416",
   "metadata": {},
   "source": [
    "# 🥗 Food Calorie Estimator using Ingredients\n",
    "\n",
    "This project predicts the **total calories** in a meal based on ingredients and their quantities using a simple regression model.\n",
    "\n",
    "**Tools Used:** NumPy, Pandas, Seaborn, Matplotlib, Scikit-learn\n"
   ]
  },
  {
   "cell_type": "code",
   "execution_count": 7,
   "id": "c01ec5e2-6a5b-48b4-ad54-ce7b1530534b",
   "metadata": {},
   "outputs": [],
   "source": [
    "## Import Libraries\n",
    "import pandas as pd\n",
    "import numpy as np\n",
    "import seaborn as sns\n",
    "import matplotlib.pyplot as plt\n",
    "from sklearn.linear_model import LinearRegression\n",
    "from sklearn.model_selection import train_test_split\n",
    "from sklearn.metrics import mean_squared_error\n"
   ]
  },
  {
   "cell_type": "code",
   "execution_count": 9,
   "id": "f37f42e4-3c51-46fa-b670-ceb87884e695",
   "metadata": {},
   "outputs": [
    {
     "data": {
      "text/html": [
       "<div>\n",
       "<style scoped>\n",
       "    .dataframe tbody tr th:only-of-type {\n",
       "        vertical-align: middle;\n",
       "    }\n",
       "\n",
       "    .dataframe tbody tr th {\n",
       "        vertical-align: top;\n",
       "    }\n",
       "\n",
       "    .dataframe thead th {\n",
       "        text-align: right;\n",
       "    }\n",
       "</style>\n",
       "<table border=\"1\" class=\"dataframe\">\n",
       "  <thead>\n",
       "    <tr style=\"text-align: right;\">\n",
       "      <th></th>\n",
       "      <th>Ingredient</th>\n",
       "      <th>Quantity (g/ml)</th>\n",
       "      <th>Calories</th>\n",
       "    </tr>\n",
       "  </thead>\n",
       "  <tbody>\n",
       "    <tr>\n",
       "      <th>0</th>\n",
       "      <td>Rice</td>\n",
       "      <td>100</td>\n",
       "      <td>130</td>\n",
       "    </tr>\n",
       "    <tr>\n",
       "      <th>1</th>\n",
       "      <td>Chicken Breast</td>\n",
       "      <td>100</td>\n",
       "      <td>165</td>\n",
       "    </tr>\n",
       "    <tr>\n",
       "      <th>2</th>\n",
       "      <td>Broccoli</td>\n",
       "      <td>50</td>\n",
       "      <td>17</td>\n",
       "    </tr>\n",
       "    <tr>\n",
       "      <th>3</th>\n",
       "      <td>Olive Oil</td>\n",
       "      <td>10</td>\n",
       "      <td>90</td>\n",
       "    </tr>\n",
       "    <tr>\n",
       "      <th>4</th>\n",
       "      <td>Paneer</td>\n",
       "      <td>100</td>\n",
       "      <td>265</td>\n",
       "    </tr>\n",
       "  </tbody>\n",
       "</table>\n",
       "</div>"
      ],
      "text/plain": [
       "       Ingredient  Quantity (g/ml)  Calories\n",
       "0            Rice              100       130\n",
       "1  Chicken Breast              100       165\n",
       "2        Broccoli               50        17\n",
       "3       Olive Oil               10        90\n",
       "4          Paneer              100       265"
      ]
     },
     "execution_count": 9,
     "metadata": {},
     "output_type": "execute_result"
    }
   ],
   "source": [
    "## Create Dataset\n",
    "data = {\n",
    "    'Ingredient': ['Rice', 'Chicken Breast', 'Broccoli', 'Olive Oil', 'Paneer'],\n",
    "    'Quantity (g/ml)': [100, 100, 50, 10, 100],\n",
    "    'Calories': [130, 165, 17, 90, 265]\n",
    "}\n",
    "\n",
    "df = pd.DataFrame(data)\n",
    "df\n"
   ]
  },
  {
   "cell_type": "code",
   "execution_count": 11,
   "id": "aa7b6f82-7553-4d87-98f1-d366524b7d72",
   "metadata": {},
   "outputs": [
    {
     "data": {
      "image/png": "[encoded data removed]",
      "text/plain": [
       "<Figure size 640x480 with 1 Axes>"
      ]
     },
     "metadata": {},
     "output_type": "display_data"
    }
   ],
   "source": [
    "## Data Visualization\n",
    "sns.barplot(x='Ingredient', y='Calories', data=df)\n",
    "plt.title('Calories per Ingredient')\n",
    "plt.xticks(rotation=45)\n",
    "plt.show()\n"
   ]
  },
  {
   "cell_type": "code",
   "execution_count": 17,
   "id": "83fd0cb8-9066-42d4-9961-4b79ff83b75a",
   "metadata": {},
   "outputs": [
    {
     "name": "stdout",
     "output_type": "stream",
     "text": [
      "Mean Squared Error: 180.3601877500769\n"
     ]
    }
   ],
   "source": [
    "## Build Regression Model\n",
    "X = df[['Quantity (g/ml)']]\n",
    "y = df['Calories']\n",
    "\n",
    "X_train, X_test, y_train, y_test = train_test_split(X, y, test_size=0.2, random_state=42)\n",
    "\n",
    "model = LinearRegression()\n",
    "model.fit(X_train, y_train)\n",
    "\n",
    "y_pred = model.predict(X_test)\n",
    "print(\"Mean Squared Error:\", mean_squared_error(y_test, y_pred))\n"
   ]
  },
  {
   "cell_type": "code",
   "execution_count": null,
   "id": "2d9b77c5-7713-4e8c-9459-5ebc276f0923",
   "metadata": {},
   "outputs": [],
   "source": [
    "## Predict Calories\n",
    "# Try different quantities here\n",
    "test_quantity = [[150]]  # example: 150g of any ingredient\n",
    "predicted_calories = model.predict(test_quantity)\n",
    "print(f\"Estimated Calories for 150g: {predicted_calories[0]:.2f}\")\n"
   ]
  },
  {
   "cell_type": "code",
   "execution_count": null,
   "id": "680db6b3-36ab-41ff-ab2c-073e1cae3734",
   "metadata": {},
   "outputs": [],
   "source": []
  }
 ],
 "metadata": {
  "kernelspec": {
   "display_name": "Python [conda env:base] *",
   "language": "python",
   "name": "conda-base-py"
  },
  "language_info": {
   "codemirror_mode": {
    "name": "ipython",
    "version": 3
   },
   "file_extension": ".py",
   "mimetype": "text/x-python",
   "name": "python",
   "nbconvert_exporter": "python",
   "pygments_lexer": "ipython3",
   "version": "3.12.7"
  }
 },
 "nbformat": 4,
 "nbformat_minor": 5
}
